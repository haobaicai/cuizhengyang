{
 "cells": [
  {
   "cell_type": "markdown",
   "metadata": {},
   "source": [
    "#### 爬取理工学院新闻标题 http://ligong.sanyau.edu.cn"
   ]
  },
  {
   "cell_type": "code",
   "execution_count": 1,
   "metadata": {},
   "outputs": [
    {
     "name": "stdout",
     "output_type": "stream",
     "text": [
      "汽车学院关于2024级本科生转专业考核结果的公示\n",
      "新学期首日我院教学工作平稳有序\n",
      "2024-2025学年春季学期教材使用目录\n",
      "工学部2025年科研项目申报准备工作汇报会顺利召开\n",
      "海南省新能源与智能汽车科普基地 第一届新能源汽车科普竞赛活动举办成功\n",
      "我院学子在第六届国际青年人工智能大赛国际自贸港科技创新主题赛总决赛中斩获多个奖项\n"
     ]
    }
   ],
   "source": [
    "import requests\n",
    "from bs4 import BeautifulSoup\n",
    "url='http://ligong.sanyau.edu.cn'     # 目标网址\n",
    "headers = {'User-Agent': 'Mozilla/5.0 (Windows NT 10.0; Win64; x64) AppleWebKit/537.36 (KHTML, like Gecko) Chrome/71.0.3578.98 Safari/537.36'}\n",
    "rq = requests.get(url, headers=headers) # 设置请求头,模拟浏览器发送请求\n",
    "rq.encoding = rq.apparent_encoding    # 设置编码方式\n",
    "soup = BeautifulSoup(rq.text,'lxml')  #用lxml解析器进行解析\n",
    "title=soup.select('div[class=\"text\"]')  # 通过属性的值来查找\n",
    "for i in title:\n",
    "    print(i.text)\n",
    "    with open('ligongxinwen.txt','a',encoding='utf-8') as f:               #保存为txt文档\n",
    "        f.writelines(i.text+'\\r')\n",
    "\n"
   ]
  },
  {
   "cell_type": "code",
   "execution_count": null,
   "metadata": {},
   "outputs": [],
   "source": []
  },
  {
   "cell_type": "code",
   "execution_count": null,
   "metadata": {},
   "outputs": [],
   "source": []
  }
 ],
 "metadata": {
  "kernelspec": {
   "display_name": "Python 3 (ipykernel)",
   "language": "python",
   "name": "python3"
  },
  "language_info": {
   "codemirror_mode": {
    "name": "ipython",
    "version": 3
   },
   "file_extension": ".py",
   "mimetype": "text/x-python",
   "name": "python",
   "nbconvert_exporter": "python",
   "pygments_lexer": "ipython3",
   "version": "3.9.13"
  }
 },
 "nbformat": 4,
 "nbformat_minor": 4
}
