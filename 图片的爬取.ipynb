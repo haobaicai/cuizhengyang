{
 "cells": [
  {
   "cell_type": "markdown",
   "id": "790f5a5f",
   "metadata": {},
   "source": [
    "\n",
    "### 爬取学校网站-认识三亚学院-校园风景图片  https://www.sanyau.edu.cn/546/list.htm\n"
   ]
  },
  {
   "cell_type": "markdown",
   "id": "a615395d",
   "metadata": {},
   "source": [
    "#### 代码实现的大致步骤：\n",
    "\n",
    "1. 导入必要的库：requests, BeautifulSoup等。\n",
    "\n",
    "2. 定义请求头，设置User-Agent。\n",
    "\n",
    "3. 发送请求获取列表页内容，检查响应状态码是否为200。\n",
    "\n",
    "4. 解析列表页，提取所有文章链接。\n",
    "\n",
    "5. 遍历每个文章链接，发送请求获取文章页内容。\n",
    "\n",
    "6. 解析文章页，提取图片URL。\n",
    "\n",
    "7. 下载图片并保存。"
   ]
  },
  {
   "cell_type": "code",
   "execution_count": 1,
   "id": "a2bd48d4",
   "metadata": {},
   "outputs": [
    {
     "name": "stdout",
     "output_type": "stream",
     "text": [
      "响应状态码： 200\n",
      "共发现10个文章链接\n",
      "示例链接： /2022/0526/c546a70555/page.htm\n",
      "发现图片： http://www.sanyau.edu.cn/_upload/article/images/f4/cb/2bd41a6e4f7782b507af0c4047ef/0381d126-fbc0-430e-9a2e-faf88080b1ff.jpg\n",
      "0381d126-fbc0-430e-9a2e-faf88080b1ff.jpg 下载完成\n",
      "发现图片： http://www.sanyau.edu.cn/_upload/article/images/55/b8/2bc88fe64e7ba1577479cf3310d0/c5bd2115-8426-40ba-908a-1f7a63fb8b25.jpg\n",
      "c5bd2115-8426-40ba-908a-1f7a63fb8b25.jpg 下载完成\n",
      "发现图片： http://www.sanyau.edu.cn/_upload/article/images/cb/33/70f2f8a94899b430d7aa61a560d1/24ba442a-6bb2-409c-b53a-5cd56e718393.jpg\n",
      "24ba442a-6bb2-409c-b53a-5cd56e718393.jpg 下载完成\n",
      "发现图片： http://www.sanyau.edu.cn/_upload/article/images/73/45/1ed1c6054cd4986f441a44a4aa1f/aa601bd1-c692-47e2-8533-85ac2a1528a4.jpg\n",
      "aa601bd1-c692-47e2-8533-85ac2a1528a4.jpg 下载完成\n",
      "发现图片： http://www.sanyau.edu.cn/_upload/article/images/c7/f2/e1c9f1b24fcca8bd91cce65b8afa/bff43326-f538-418e-86b7-741663a16129.jpg\n",
      "bff43326-f538-418e-86b7-741663a16129.jpg 下载完成\n",
      "发现图片： http://www.sanyau.edu.cn/_upload/article/images/d5/1b/4291df2943a5835305e3c154685c/05d057a3-7eb9-4511-9ac9-8553fe1d8faf.jpg\n",
      "05d057a3-7eb9-4511-9ac9-8553fe1d8faf.jpg 下载完成\n",
      "发现图片： http://www.sanyau.edu.cn/_upload/article/images/f6/0e/137ab3794a60b3a70cc482fa16f7/8bd441ba-1409-4008-a3d0-0cd4bd195456.jpg\n",
      "8bd441ba-1409-4008-a3d0-0cd4bd195456.jpg 下载完成\n",
      "发现图片： http://www.sanyau.edu.cn/_upload/article/images/f7/15/b0d6ed2f4d5e89390ed221757d8d/9174398f-0828-4e6b-8b4f-735516a9500d.jpg\n",
      "9174398f-0828-4e6b-8b4f-735516a9500d.jpg 下载完成\n",
      "发现图片： http://www.sanyau.edu.cn/_upload/article/images/85/86/5319f3c5498fb994233849b342dd/99b21cb7-8944-4b64-857c-bb9455d4292c.jpg\n",
      "99b21cb7-8944-4b64-857c-bb9455d4292c.jpg 下载完成\n"
     ]
    }
   ],
   "source": [
    "import requests     # 导入requests库，用于发送HTTP请求  \n",
    "from bs4 import BeautifulSoup   # 导入BeautifulSoup库，用于解析HTML内容   \n",
    "url='https://www.sanyau.edu.cn/546/list.htm'  # 设置要爬取的网页URL  \n",
    "headers={'User-Agent': 'Mozilla/5.0 (Windows NT 10.0; Win64; x64) AppleWebKit/537.36 (KHTML, like Gecko) Chrome/109.0.0.0 Safari/537.36'}  # 设置请求头，模拟浏览器访问   \n",
    "rs=requests.get(url,headers=headers)  # 使用requests库发送GET请求，获取网页内容  \n",
    "rs.encoding=rs.apparent_encoding  # 设置响应内容的编码为网页的实际编码，避免乱码\n",
    "print('响应状态码：', rs.status_code)   # 验证请求成功\n",
    "soup=BeautifulSoup(rs.text,'lxml')  # 使用BeautifulSoup解析网页内容，选择'lxml'作为解析器    \n",
    "links=soup.select('div.news_imgs > a')  # 使用CSS层级选择器选择所有符合选择器'div.news_imgs > a'的标签，这些标签包含所有文章的链接\n",
    "# 验证链接提取结果\n",
    "print(f\"共发现{len(links)}个文章链接\")\n",
    "print(\"示例链接：\", links[0].get('href'))\n",
    "\n",
    "# 二级页面提取，遍历每个文章链接，发送请求获取文章页内容 \n",
    "for link in links:\n",
    "    \n",
    "    sub_url='http://www.sanyau.edu.cn'+link.get(\"href\")  # 获取a标签的href属性值，拼接成完整的子链接  \n",
    "    \n",
    "    res=requests.get(sub_url,headers=headers)  # 发送请求获取子链接内容 \n",
    "    res.encoding=res.apparent_encoding \n",
    "    sub_soup=BeautifulSoup(res.text,'lxml')\n",
    "    img_tags=sub_soup.select('div.entry > div > div > div > p[style=\"text-align:center;\"] > img')# 选择符合特定选择器的img标签，这里的选择器需要根据实际网页结构调整\n",
    "#解析文章页，提取图片URL。\n",
    "    for img in img_tags:\n",
    "        img_url='http://www.sanyau.edu.cn'+img.get(\"src\")  # 获取img标签的src属性值，拼接成完整的图片URL \n",
    "        print('发现图片：', img_url)\n",
    "        # 文件下载\n",
    "        img_data = requests.get(img_url).content\n",
    "        filename = img_url.split('/')[-1]  # 从完整的图片URL中获取图片的文件名 \n",
    "        # 以二进制写入模式打开文件，将图片内容写入当前工程路径的data文件夹中，注意：确保data文件夹已存在\n",
    "        with open(f'./data/{filename}', 'wb') as f:   \n",
    "            f.write(img_data)\n",
    "        print(f'{filename} 下载完成')\n"
   ]
  },
  {
   "cell_type": "code",
   "execution_count": null,
   "id": "8f7f100f",
   "metadata": {},
   "outputs": [],
   "source": []
  },
  {
   "cell_type": "code",
   "execution_count": null,
   "id": "730f2d80",
   "metadata": {},
   "outputs": [],
   "source": []
  }
 ],
 "metadata": {
  "kernelspec": {
   "display_name": "Python 3 (ipykernel)",
   "language": "python",
   "name": "python3"
  },
  "language_info": {
   "codemirror_mode": {
    "name": "ipython",
    "version": 3
   },
   "file_extension": ".py",
   "mimetype": "text/x-python",
   "name": "python",
   "nbconvert_exporter": "python",
   "pygments_lexer": "ipython3",
   "version": "3.9.13"
  }
 },
 "nbformat": 4,
 "nbformat_minor": 5
}
